{
 "cells": [
  {
   "cell_type": "markdown",
   "source": [
    "# Tutorial of OBJECT Workflow"
   ],
   "metadata": {}
  },
  {
   "cell_type": "markdown",
   "source": [
    "This tutorial cover the basic usages of processing HiChIP fastq data, by `HiC-Pro` and/or `multipass_process` module, and call significant interactions using `OBJECT` module."
   ],
   "metadata": {}
  },
  {
   "cell_type": "code",
   "execution_count": null,
   "source": [],
   "outputs": [],
   "metadata": {}
  },
  {
   "cell_type": "markdown",
   "source": [],
   "metadata": {}
  }
 ],
 "metadata": {
  "orig_nbformat": 4,
  "language_info": {
   "name": "python",
   "version": "3.8.10"
  },
  "kernelspec": {
   "name": "python3",
   "display_name": "Python 3.8.10 64-bit ('hobj': conda)"
  },
  "interpreter": {
   "hash": "349631ee4c6c777bc56706e38b3b7de88f3dbda42d87f6b4cf1f71f7de25c1af"
  }
 },
 "nbformat": 4,
 "nbformat_minor": 2
}