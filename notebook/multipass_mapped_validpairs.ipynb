{
 "cells": [
  {
   "cell_type": "code",
   "execution_count": 1,
   "source": [
    "# notebook config (optional)\n",
    "%load_ext lab_black\n",
    "%load_ext autoreload\n",
    "%autoreload 2\n",
    "%matplotlib inline"
   ],
   "outputs": [],
   "metadata": {}
  },
  {
   "cell_type": "code",
   "execution_count": 2,
   "source": [
    "import logging, ray\n",
    "\n",
    "logging.getLogger().setLevel(logging.INFO)"
   ],
   "outputs": [],
   "metadata": {}
  },
  {
   "cell_type": "markdown",
   "source": [
    "# Multipass Processing for MiD Hi-C/HiChIP"
   ],
   "metadata": {}
  },
  {
   "cell_type": "markdown",
   "source": [
    "\"MiD\" workflow digest nucleus into smaller digested fragments (DF) comparing to current in situ Hi-C. For a given length of sequenced fragment (SF), it is expected to contain more number of smaller DFs. \n",
    "\n",
    "To make use of this informatio, we introduced multipass processing pipeline. In the mapping step, the pipeline further split reads by ligation pattern beyond the first split for current Hi-C. As a result, each PETs can have more than 2 mapped fragments. \n",
    "\n",
    "At the moment, we only use to refine validpair calling by prioritizing cis validpairs over interchromosomal validpairs and religation pairs. Future efforts can be done on extracting multi-way interactions."
   ],
   "metadata": {}
  },
  {
   "cell_type": "code",
   "execution_count": 4,
   "source": [
    "from multipass_process.mpmap import multipass_mapping_from_hicpro\n",
    "from multipass_process.mvp import genome_digestion, construct_mpp_validpair"
   ],
   "outputs": [],
   "metadata": {}
  },
  {
   "cell_type": "markdown",
   "source": [
    "We provide a convinient script for the multipass processing. Here is the help information. For users wanting to know the details, we also have the breakdown of the steps below."
   ],
   "metadata": {}
  },
  {
   "cell_type": "code",
   "execution_count": 4,
   "source": [
    "!hicpro_to_mvp.py -h"
   ],
   "outputs": [
    {
     "output_type": "stream",
     "name": "stdout",
     "text": [
      "usage: hicpro_to_mvp.py [-h] [--bowtie2_path BOWTIE2_PATH]\n",
      "                        [--samtools_path SAMTOOLS_PATH] [--num_cpus NUM_CPUS]\n",
      "                        [--ligation_site LIGATION_SITE]\n",
      "                        [--digestion_site DIGESTION_SITE] [--mapq MAPQ]\n",
      "                        hicpro_results project_name genome_index genome_fa\n",
      "\n",
      "Multipass mapping from HiC-Pro results and process to multipass-processed\n",
      "validpairs (MVP)\n",
      "\n",
      "positional arguments:\n",
      "  hicpro_results        HiC-Pro output directory\n",
      "  project_name          project/sample name of HiC-Pro output\n",
      "  genome_index          bowtie2 genome index\n",
      "  genome_fa             genome sequence file\n",
      "\n",
      "optional arguments:\n",
      "  -h, --help            show this help message and exit\n",
      "  --bowtie2_path BOWTIE2_PATH\n",
      "                        bowtie2 program path, default to find in env PATH\n",
      "  --samtools_path SAMTOOLS_PATH\n",
      "                        samtools program path, default to find in env PATH\n",
      "  --num_cpus NUM_CPUS   number of cpu cores to use, default 8\n",
      "  --ligation_site LIGATION_SITE\n",
      "                        ligation partern used for the Hi-C experiment, default\n",
      "                        MseI + DdeI\n",
      "  --digestion_site DIGESTION_SITE\n",
      "                        digestion site used for the Hi-C experiment, default\n",
      "                        MseI + DdeI\n",
      "  --mapq MAPQ           MAPQ filter, default 10\n",
      "\u001b[0m"
     ]
    }
   ],
   "metadata": {}
  },
  {
   "cell_type": "markdown",
   "source": [
    "Step 1: Multipass mapping from HiC-Pro results"
   ],
   "metadata": {}
  },
  {
   "cell_type": "code",
   "execution_count": 5,
   "source": [
    "multipass_mapped_bam = multipass_mapping_from_hicpro(\n",
    "    \"/Extension_HDD2/Hanbin/ES_Cell/E14/HiC3_HL/HL28_Smc1_MiDHiChIP_Test/HL28_Smc1_MiDHiChIP_out/\",\n",
    "    \"data\",\n",
    "    b\"(CT[ATCG]AT[ATCG]AG)|(CT[ATCG]ATAA)|(TTAT[ATCG]AG)|(TTATAA)\",\n",
    "    \"/home/software/bowtie2-2.2.9/genome/mm9/mm9\",\n",
    "    38,\n",
    "    \"bowtie2\",\n",
    "    \"samtools\",\n",
    ")"
   ],
   "outputs": [],
   "metadata": {}
  },
  {
   "cell_type": "markdown",
   "source": [
    "This step generate a paired bam file under the HiC-Pro output directory. The next step resolved the multi mapped frag PETs to different types of proximal-ligated products."
   ],
   "metadata": {}
  },
  {
   "cell_type": "code",
   "execution_count": 5,
   "source": [
    "digested_frags = genome_digestion(\n",
    "    \"/home/software/genome_index/mouse/bowtie_indexing/mm10.fa\", \"(CT[ATCG]AG)|(TTAA)\"\n",
    ")"
   ],
   "outputs": [],
   "metadata": {}
  },
  {
   "cell_type": "code",
   "execution_count": 6,
   "source": [
    "ray.init(num_cpus=30)"
   ],
   "outputs": [
    {
     "output_type": "stream",
     "name": "stderr",
     "text": [
      "2021-08-17 17:55:35,619\tINFO services.py:1245 -- View the Ray dashboard at \u001b[1m\u001b[32mhttp://127.0.0.1:8266\u001b[39m\u001b[22m\n"
     ]
    },
    {
     "output_type": "execute_result",
     "data": {
      "text/plain": [
       "{'node_ip_address': '132.239.183.12',\n",
       " 'raylet_ip_address': '132.239.183.12',\n",
       " 'redis_address': '132.239.183.12:49048',\n",
       " 'object_store_address': '/tmp/ray/session_2021-08-17_17-55-31_375515_9514/sockets/plasma_store',\n",
       " 'raylet_socket_name': '/tmp/ray/session_2021-08-17_17-55-31_375515_9514/sockets/raylet',\n",
       " 'webui_url': '127.0.0.1:8266',\n",
       " 'session_dir': '/tmp/ray/session_2021-08-17_17-55-31_375515_9514',\n",
       " 'metrics_export_port': 59667,\n",
       " 'node_id': '5f832ba8f39f23e2e697fa778dae6e3e5d6757a3dd2f3d9fab52fa7a'}"
      ]
     },
     "metadata": {},
     "execution_count": 6
    }
   ],
   "metadata": {}
  },
  {
   "cell_type": "code",
   "execution_count": 9,
   "source": [
    "construct_mpp_validpair(\n",
    "    \"/Extension_HDD2/Hanbin/ES_Cell/E14/HiC3_HL/HL28_Smc1_MiDHiChIP_Test/HL28_Smc1_MiDHiChIP_out/bowtie_results/bwt2_multipass/data/data.merged.bam\",\n",
    "    10,\n",
    "    digested_frags,\n",
    "    \"/Extension_HDD2/Hanbin/ES_Cell/E14/HiC3_HL/HL28_Smc1_MiDHiChIP_Test/HL28_Smc1_MiDHiChIP_out/hop_results/data.pympp.mppValidPairs\",\n",
    "    30,\n",
    ")"
   ],
   "outputs": [],
   "metadata": {}
  },
  {
   "cell_type": "markdown",
   "source": [
    "# Multi-way ValidHubs"
   ],
   "metadata": {}
  },
  {
   "cell_type": "code",
   "execution_count": 7,
   "source": [
    "from multipass_process.mvh import construct_mpp_validhub"
   ],
   "outputs": [],
   "metadata": {}
  },
  {
   "cell_type": "code",
   "execution_count": 12,
   "source": [
    "construct_mpp_validhub(\n",
    "    \"/home/murrelab/MiD_HiChIP_Project/data_to_publish/E14_B2T1_Smc3_out/bowtie_results/bwt2_multipass/data/data.merged.bam\",\n",
    "    10,\n",
    "    digested_frags,\n",
    "    \"/home/murrelab/MiD_HiChIP_Project/data_to_publish/E14_B2T1_Smc3_out/mvp_results/data.mppValidHubs\",\n",
    "    30,\n",
    ")"
   ],
   "outputs": [],
   "metadata": {}
  },
  {
   "cell_type": "code",
   "execution_count": null,
   "source": [],
   "outputs": [],
   "metadata": {}
  }
 ],
 "metadata": {
  "orig_nbformat": 4,
  "language_info": {
   "name": "python",
   "version": "3.8.10",
   "mimetype": "text/x-python",
   "codemirror_mode": {
    "name": "ipython",
    "version": 3
   },
   "pygments_lexer": "ipython3",
   "nbconvert_exporter": "python",
   "file_extension": ".py"
  },
  "kernelspec": {
   "name": "python3",
   "display_name": "Python 3.8.10 64-bit ('hobj': conda)"
  },
  "interpreter": {
   "hash": "349631ee4c6c777bc56706e38b3b7de88f3dbda42d87f6b4cf1f71f7de25c1af"
  }
 },
 "nbformat": 4,
 "nbformat_minor": 2
}